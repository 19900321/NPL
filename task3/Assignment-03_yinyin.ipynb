{
 "cells": [
  {
   "cell_type": "markdown",
   "metadata": {},
   "source": [
    "## Lecture-03 Gradient Descent and Dymanic Programming"
   ]
  },
  {
   "cell_type": "markdown",
   "metadata": {},
   "source": [
    "In this week, we need complete following tasks:\n",
    "+ Re-review the course online programming; \n",
    "+ Choose 1 - 2 books which you interested and keep reading; \n",
    "+ Answer the review questions\n",
    "+ Prepare the basic requirement of our 1st project. "
   ]
  },
  {
   "cell_type": "markdown",
   "metadata": {},
   "source": [
    "### Part I Review the online programming. "
   ]
  },
  {
   "cell_type": "markdown",
   "metadata": {},
   "source": [
    "####  装饰器"
   ]
  },
  {
   "cell_type": "code",
   "execution_count": 4,
   "metadata": {},
   "outputs": [],
   "source": [
    "def example(f,arg):\n",
    "    return f(arg)"
   ]
  },
  {
   "cell_type": "code",
   "execution_count": 5,
   "metadata": {},
   "outputs": [],
   "source": [
    "def add_five(x):\n",
    "    return x+5"
   ]
  },
  {
   "cell_type": "code",
   "execution_count": 6,
   "metadata": {},
   "outputs": [
    {
     "data": {
      "text/plain": [
       "105"
      ]
     },
     "execution_count": 6,
     "metadata": {},
     "output_type": "execute_result"
    }
   ],
   "source": [
    "example(add_five, 100)"
   ]
  },
  {
   "cell_type": "code",
   "execution_count": 7,
   "metadata": {},
   "outputs": [],
   "source": [
    "def add_fif(y):\n",
    "    return y+15"
   ]
  },
  {
   "cell_type": "code",
   "execution_count": 9,
   "metadata": {},
   "outputs": [],
   "source": [
    "operation = [add_five,add_fif]"
   ]
  },
  {
   "cell_type": "code",
   "execution_count": 10,
   "metadata": {},
   "outputs": [
    {
     "name": "stdout",
     "output_type": "stream",
     "text": [
      "105\n",
      "115\n"
     ]
    }
   ],
   "source": [
    "for f in operation:\n",
    "    print(example(f,100))"
   ]
  },
  {
   "cell_type": "code",
   "execution_count": 34,
   "metadata": {},
   "outputs": [],
   "source": [
    "def function1(): print('I am fuction one')"
   ]
  },
  {
   "cell_type": "code",
   "execution_count": 35,
   "metadata": {},
   "outputs": [],
   "source": [
    "from collections import defaultdict"
   ]
  },
  {
   "cell_type": "code",
   "execution_count": 47,
   "metadata": {},
   "outputs": [],
   "source": [
    "called_time = defaultdict(int)\n",
    "def get_call_times(f):\n",
    "    result = f( )\n",
    "    print('function:{} was called once'.format(f.__name__) )\n",
    "    called_time[f.__name__] +=1\n",
    "    return result\n"
   ]
  },
  {
   "cell_type": "code",
   "execution_count": 48,
   "metadata": {},
   "outputs": [
    {
     "name": "stdout",
     "output_type": "stream",
     "text": [
      "I am fuction one\n",
      "function:function1 was called once\n"
     ]
    }
   ],
   "source": [
    "get_call_times(function1)"
   ]
  },
  {
   "cell_type": "code",
   "execution_count": 51,
   "metadata": {},
   "outputs": [],
   "source": [
    "called_time_with_arg = defaultdict(int)\n",
    "def r(n):\n",
    "    fname = r.__name__\n",
    "    called_time_with_arg[(fname,n)] += 1\n",
    "    print('the function {} with argument {} was called {} times'.format(fname,n, called_time_with_arg[(fname,n)]))\n"
   ]
  },
  {
   "cell_type": "code",
   "execution_count": 54,
   "metadata": {},
   "outputs": [
    {
     "name": "stdout",
     "output_type": "stream",
     "text": [
      "the function r with argument 10 was called 4 times\n",
      "the function r with argument 10 was called 5 times\n",
      "the function r with argument 1 was called 1 times\n",
      "the function r with argument 2 was called 1 times\n",
      "the function r with argument 1 was called 2 times\n",
      "the function r with argument 1 was called 3 times\n"
     ]
    }
   ],
   "source": [
    "r(10)\n",
    "r(10)\n",
    "r(1)\n",
    "r(2)\n",
    "r(1)\n",
    "r(1)"
   ]
  },
  {
   "cell_type": "code",
   "execution_count": null,
   "metadata": {},
   "outputs": [],
   "source": [
    "##  more advance"
   ]
  },
  {
   "cell_type": "code",
   "execution_count": 77,
   "metadata": {},
   "outputs": [],
   "source": [
    "called_time_with_arg = defaultdict(int)\n",
    "def get_call_time(f):\n",
    "    ''' \n",
    "    haha, I am f\n",
    "    \n",
    "    '''\n",
    "    def wrap(n):\n",
    "        '''\n",
    "        haha, I am wrape\n",
    "        '''\n",
    "        result = f(n)\n",
    "        fname = f.__name__\n",
    "        called_time_with_arg[(f.__name__,n)] +=1\n",
    "        print('the function {} with argument {} was called {} times'.format(fname,n, called_time_with_arg[(fname,n)]))\n",
    "        return result\n",
    "    return wrap"
   ]
  },
  {
   "cell_type": "code",
   "execution_count": 78,
   "metadata": {},
   "outputs": [],
   "source": [
    "add_five_with_call_time = get_call_time(add_five)"
   ]
  },
  {
   "cell_type": "code",
   "execution_count": 79,
   "metadata": {
    "scrolled": true
   },
   "outputs": [
    {
     "name": "stdout",
     "output_type": "stream",
     "text": [
      "the function add_five with argument 10 was called 1 times\n",
      "the function add_five with argument 10 was called 2 times\n",
      "the function add_five with argument 5 was called 1 times\n"
     ]
    },
    {
     "data": {
      "text/plain": [
       "defaultdict(int, {('add_five', 5): 1, ('add_five', 10): 2})"
      ]
     },
     "execution_count": 79,
     "metadata": {},
     "output_type": "execute_result"
    }
   ],
   "source": [
    "add_five_with_call_time(10)\n",
    "add_five_with_call_time(10)\n",
    "add_five_with_call_time(5)\n",
    "called_time_with_arg"
   ]
  },
  {
   "cell_type": "markdown",
   "metadata": {},
   "source": [
    "### simpified the mutiple fuction"
   ]
  },
  {
   "cell_type": "code",
   "execution_count": 80,
   "metadata": {},
   "outputs": [],
   "source": [
    "@get_call_time\n",
    "def add_two(n):\n",
    "    ''' \n",
    "    haha, I am funtion add-two\n",
    "    \n",
    "    '''\n",
    "    return n+2"
   ]
  },
  {
   "cell_type": "code",
   "execution_count": 69,
   "metadata": {},
   "outputs": [
    {
     "name": "stdout",
     "output_type": "stream",
     "text": [
      "the function add_two with argument 8 was called 4 times\n",
      "the function add_two with argument 9 was called 3 times\n",
      "the function add_two with argument 8 was called 5 times\n"
     ]
    },
    {
     "data": {
      "text/plain": [
       "defaultdict(int,\n",
       "            {('add_five', 5): 2,\n",
       "             ('add_five', 10): 4,\n",
       "             ('add_two', 8): 5,\n",
       "             ('add_two', 9): 3})"
      ]
     },
     "execution_count": 69,
     "metadata": {},
     "output_type": "execute_result"
    }
   ],
   "source": [
    "add_two(8)\n",
    "add_two(9)\n",
    "add_two(8)\n",
    "called_time_with_arg"
   ]
  },
  {
   "cell_type": "code",
   "execution_count": null,
   "metadata": {},
   "outputs": [],
   "source": [
    "# use wrape and direct function name, help information change"
   ]
  },
  {
   "cell_type": "code",
   "execution_count": 81,
   "metadata": {},
   "outputs": [
    {
     "name": "stdout",
     "output_type": "stream",
     "text": [
      "Help on function wrap in module __main__:\n",
      "\n",
      "wrap(n)\n",
      "    haha, I am wrape\n",
      "\n"
     ]
    }
   ],
   "source": [
    "help(add_two) #changed to wrap"
   ]
  },
  {
   "cell_type": "markdown",
   "metadata": {},
   "source": [
    "### solution is wrapes package, @wraps"
   ]
  },
  {
   "cell_type": "code",
   "execution_count": 92,
   "metadata": {},
   "outputs": [],
   "source": [
    "from functools import wraps"
   ]
  },
  {
   "cell_type": "code",
   "execution_count": 93,
   "metadata": {},
   "outputs": [],
   "source": [
    "called_time_with_arg = defaultdict(int)\n",
    "def get_call_time(f):\n",
    "    ''' \n",
    "    haha, I am f\n",
    "    \n",
    "    '''\n",
    "    @wraps(f)\n",
    "    def wrap(n):\n",
    "        '''\n",
    "        haha, I am wrape\n",
    "        '''\n",
    "        result = f(n)\n",
    "        fname = f.__name__\n",
    "        called_time_with_arg[(f.__name__,n)] +=1\n",
    "        print('the function {} with argument {} was called {} times'.format(fname,n, called_time_with_arg[(fname,n)]))\n",
    "        return result\n",
    "    return wrap"
   ]
  },
  {
   "cell_type": "code",
   "execution_count": 94,
   "metadata": {},
   "outputs": [],
   "source": [
    "@get_call_time\n",
    "def add_two(n):\n",
    "    ''' \n",
    "    haha, I am funtion add-two\n",
    "    \n",
    "    '''\n",
    "    return n+2"
   ]
  },
  {
   "cell_type": "code",
   "execution_count": 95,
   "metadata": {},
   "outputs": [
    {
     "name": "stdout",
     "output_type": "stream",
     "text": [
      "Help on function add_two in module __main__:\n",
      "\n",
      "add_two(n)\n",
      "    haha, I am funtion add-two\n",
      "\n"
     ]
    }
   ],
   "source": [
    "help(add_two)"
   ]
  },
  {
   "cell_type": "markdown",
   "metadata": {},
   "source": [
    "### save those have been changed by deraction"
   ]
  },
  {
   "cell_type": "code",
   "execution_count": 101,
   "metadata": {},
   "outputs": [],
   "source": [
    "def memo(f):\n",
    "    already_computed = {}\n",
    "    @wraps(f)\n",
    "    def _wrap(arg):\n",
    "        result = None\n",
    "        if arg in already_computed:\n",
    "            result = already_computed[arg]\n",
    "        else:\n",
    "            result = f(arg)\n",
    "            already_computed[arg] = result\n",
    "        return result\n",
    "    return _wrap"
   ]
  },
  {
   "cell_type": "code",
   "execution_count": 102,
   "metadata": {},
   "outputs": [],
   "source": [
    "@memo\n",
    "@get_call_time\n",
    "def add_two(n):\n",
    "    ''' \n",
    "    haha, I am funtion add-two\n",
    "    \n",
    "    '''\n",
    "    return n+2"
   ]
  },
  {
   "cell_type": "code",
   "execution_count": 103,
   "metadata": {},
   "outputs": [
    {
     "name": "stdout",
     "output_type": "stream",
     "text": [
      "the function add_two with argument 3 was called 1 times\n"
     ]
    },
    {
     "data": {
      "text/plain": [
       "5"
      ]
     },
     "execution_count": 103,
     "metadata": {},
     "output_type": "execute_result"
    }
   ],
   "source": [
    "add_two(3)"
   ]
  },
  {
   "cell_type": "code",
   "execution_count": 104,
   "metadata": {},
   "outputs": [
    {
     "data": {
      "text/plain": [
       "5"
      ]
     },
     "execution_count": 104,
     "metadata": {},
     "output_type": "execute_result"
    }
   ],
   "source": [
    "add_two(3)"
   ]
  },
  {
   "cell_type": "markdown",
   "metadata": {},
   "source": [
    "'the function add_two with argument 3 was called 1' times was not printed, mean that it was not computed again'"
   ]
  },
  {
   "cell_type": "code",
   "execution_count": 105,
   "metadata": {},
   "outputs": [
    {
     "data": {
      "text/plain": [
       "5"
      ]
     },
     "execution_count": 105,
     "metadata": {},
     "output_type": "execute_result"
    }
   ],
   "source": [
    "add_two(3)\n"
   ]
  },
  {
   "cell_type": "code",
   "execution_count": 106,
   "metadata": {},
   "outputs": [
    {
     "name": "stdout",
     "output_type": "stream",
     "text": [
      "the function add_two with argument 2 was called 1 times\n"
     ]
    },
    {
     "data": {
      "text/plain": [
       "4"
      ]
     },
     "execution_count": 106,
     "metadata": {},
     "output_type": "execute_result"
    }
   ],
   "source": [
    "add_two(2)"
   ]
  },
  {
   "cell_type": "markdown",
   "metadata": {},
   "source": [
    "### application decoration for dynamix´c programming for cuuting problems"
   ]
  },
  {
   "cell_type": "code",
   "execution_count": 109,
   "metadata": {},
   "outputs": [],
   "source": [
    "from collections import defaultdict"
   ]
  },
  {
   "cell_type": "code",
   "execution_count": 110,
   "metadata": {},
   "outputs": [],
   "source": [
    "original_price = [1,5,8,9,10,17,17,20,24,30]"
   ]
  },
  {
   "cell_type": "code",
   "execution_count": 111,
   "metadata": {},
   "outputs": [],
   "source": [
    "price = defaultdict(int)\n",
    "for i,p in enumerate(original_price):\n",
    "    price[i+1] = p\n",
    "assert price[1] == 1"
   ]
  },
  {
   "cell_type": "code",
   "execution_count": 112,
   "metadata": {},
   "outputs": [
    {
     "data": {
      "text/plain": [
       "defaultdict(int,\n",
       "            {1: 1,\n",
       "             2: 5,\n",
       "             3: 8,\n",
       "             4: 9,\n",
       "             5: 10,\n",
       "             6: 17,\n",
       "             7: 17,\n",
       "             8: 20,\n",
       "             9: 24,\n",
       "             10: 30})"
      ]
     },
     "execution_count": 112,
     "metadata": {},
     "output_type": "execute_result"
    }
   ],
   "source": [
    "price"
   ]
  },
  {
   "cell_type": "markdown",
   "metadata": {},
   "source": [
    "#### set basic function for price"
   ]
  },
  {
   "cell_type": "code",
   "execution_count": 152,
   "metadata": {},
   "outputs": [],
   "source": [
    "@memo\n",
    "def r(n):  \n",
    "    max_price, split_point = max([(price[n], 0)] + [(r(i)+r(n-i),i) for i in range(1,n)], key=lambda x: x[0])\n",
    "    solution[n] = (split_point, n- split_point)\n",
    "    return max_price"
   ]
  },
  {
   "cell_type": "code",
   "execution_count": 144,
   "metadata": {},
   "outputs": [],
   "source": [
    "def memo(func):\n",
    "    already_computed = {}\n",
    "    @wraps(func)\n",
    "    def _wrap(n):\n",
    "        if n in already_computed:\n",
    "            result = already_computed[n]\n",
    "        else:\n",
    "            result = func(n)\n",
    "            already_computed[n] = result\n",
    "        return result\n",
    "    return _wrap"
   ]
  },
  {
   "cell_type": "code",
   "execution_count": 149,
   "metadata": {},
   "outputs": [],
   "source": [
    "call_times_with_arg = defaultdict(int)\n",
    "def get_call_time(f): \n",
    "    fname = f.__name__\n",
    "    @wraps(f)\n",
    "    def _inner(n):\n",
    "        call_times_with_arg[(fname,n)] +=1\n",
    "        result = f(n)\n",
    "        print('the function {} with argument {} was called {} times'.format(fname,n, called_time_with_arg[(fname,n)]))\n",
    "        return result\n",
    "    return _inner"
   ]
  },
  {
   "cell_type": "code",
   "execution_count": 139,
   "metadata": {},
   "outputs": [],
   "source": [
    "solution = {}"
   ]
  },
  {
   "cell_type": "code",
   "execution_count": 124,
   "metadata": {},
   "outputs": [],
   "source": [
    "import time\n",
    "def call_time(f,arg):\n",
    "    start_time = time.time()\n",
    "    result = f(arg)\n",
    "    time_used = time.time()-start_time\n",
    "    print('the time used is {}'.format(time_used))\n",
    "    return result"
   ]
  },
  {
   "cell_type": "code",
   "execution_count": 125,
   "metadata": {},
   "outputs": [
    {
     "name": "stdout",
     "output_type": "stream",
     "text": [
      "the time used is 0.0\n"
     ]
    },
    {
     "data": {
      "text/plain": [
       "102"
      ]
     },
     "execution_count": 125,
     "metadata": {},
     "output_type": "execute_result"
    }
   ],
   "source": [
    "call_time(add_two,100)"
   ]
  },
  {
   "cell_type": "code",
   "execution_count": 163,
   "metadata": {},
   "outputs": [
    {
     "data": {
      "text/plain": [
       "1500"
      ]
     },
     "execution_count": 163,
     "metadata": {},
     "output_type": "execute_result"
    }
   ],
   "source": [
    "r(500)"
   ]
  },
  {
   "cell_type": "code",
   "execution_count": 155,
   "metadata": {},
   "outputs": [],
   "source": [
    "def not_cut(split): return split == 0"
   ]
  },
  {
   "cell_type": "code",
   "execution_count": 160,
   "metadata": {},
   "outputs": [],
   "source": [
    "def parse_solution(target_length, revenue_solution):\n",
    "    left,right = revenue_solution[target_length]\n",
    "    if int(left) == 0: return [right]\n",
    "    return parse_solution(left,revenue_solution) +  parse_solution(right, revenue_solution)"
   ]
  },
  {
   "cell_type": "code",
   "execution_count": 164,
   "metadata": {},
   "outputs": [
    {
     "data": {
      "text/plain": [
       "[10, 10, 10]"
      ]
     },
     "execution_count": 164,
     "metadata": {},
     "output_type": "execute_result"
    }
   ],
   "source": [
    "parse_solution(30,solution)"
   ]
  },
  {
   "cell_type": "markdown",
   "metadata": {},
   "source": [
    "### Part 2: change loss function from $loss = \\frac{1}{n}\\sum{(y_i - \\hat(y_i))^2}$ to $loss = \\frac{1}{n}\\sum{|y_i - \\hat{y_i}|}$, and using your mathmatical knowledge to get the right partial formual. Implemen the gradient descent code."
   ]
  },
  {
   "cell_type": "code",
   "execution_count": 165,
   "metadata": {},
   "outputs": [],
   "source": [
    "def partial_k_2(x,y,y_hat):\n",
    "    n = len(y)\n",
    "    gradient = 0\n",
    "    for x_i, y_i, y_hat_i in zip(list(x), list(y), list(y_hat)):\n",
    "        if y_i> y_hat_i:\n",
    "            gradient += (-x_i)\n",
    "        else:\n",
    "            gradient += x_i\n",
    "    return 1/n*gradient"
   ]
  },
  {
   "cell_type": "code",
   "execution_count": 166,
   "metadata": {},
   "outputs": [],
   "source": [
    "def partial_b_2(y,y_hat):\n",
    "    n = len(y)\n",
    "    gradient = 0\n",
    "    for  y_i, y_hat_i in zip(list(y), list(y_hat)):\n",
    "        if y_i> y_hat_i:\n",
    "            gradient += -1\n",
    "        else:\n",
    "            gradient += 1\n",
    "    return 1/n*gradient"
   ]
  },
  {
   "cell_type": "code",
   "execution_count": 181,
   "metadata": {},
   "outputs": [],
   "source": [
    "def price(rm, k, b):\n",
    "    return k*rm + b"
   ]
  },
  {
   "cell_type": "code",
   "execution_count": 182,
   "metadata": {},
   "outputs": [],
   "source": [
    "def loss(y,y_hat):\n",
    "    return sum((y_i - y_hat_i) for y_i, y_hat_i in zip(list(y), list(y_hat))) / len(list(y))"
   ]
  },
  {
   "cell_type": "code",
   "execution_count": 183,
   "metadata": {},
   "outputs": [],
   "source": [
    "from sklearn.datasets import load_boston"
   ]
  },
  {
   "cell_type": "code",
   "execution_count": 184,
   "metadata": {},
   "outputs": [],
   "source": [
    "data = load_boston()"
   ]
  },
  {
   "cell_type": "code",
   "execution_count": 185,
   "metadata": {},
   "outputs": [],
   "source": [
    "%matplotlib inline\n",
    "import random\n",
    "from collections import defaultdict\n",
    "def draw_rm_and_price():\n",
    "    plt.scatter(X[:,5],y)\n",
    "import matplotlib.pyplot as plt"
   ]
  },
  {
   "cell_type": "code",
   "execution_count": 186,
   "metadata": {},
   "outputs": [
    {
     "name": "stdout",
     "output_type": "stream",
     "text": [
      "when time is : 0, get best_k:-87.40997332294624 best_b -42.738398431104365, and the loss is 614.6109288981049\n",
      "when time is : 50, get best_k:-87.37855015100975 best_b -42.7333984311042, and the loss is 614.408445751193\n",
      "when time is : 100, get best_k:-87.34712697907325 best_b -42.72839843110403, and the loss is 614.2059626042806\n",
      "when time is : 150, get best_k:-87.31570380713676 best_b -42.72339843110387, and the loss is 614.0034794573687\n",
      "when time is : 200, get best_k:-87.28428063520026 best_b -42.7183984311037, and the loss is 613.8009963104573\n",
      "when time is : 250, get best_k:-87.25285746326377 best_b -42.713398431103535, and the loss is 613.5985131635454\n",
      "when time is : 300, get best_k:-87.22143429132727 best_b -42.70839843110337, and the loss is 613.396030016633\n",
      "when time is : 350, get best_k:-87.19001111939077 best_b -42.7033984311032, and the loss is 613.1935468697211\n",
      "when time is : 400, get best_k:-87.15858794745428 best_b -42.69839843110304, and the loss is 612.9910637228089\n",
      "when time is : 450, get best_k:-87.12716477551778 best_b -42.69339843110287, and the loss is 612.7885805758973\n",
      "when time is : 500, get best_k:-87.09574160358129 best_b -42.688398431102705, and the loss is 612.5860974289851\n",
      "when time is : 550, get best_k:-87.0643184316448 best_b -42.68339843110254, and the loss is 612.3836142820738\n",
      "when time is : 600, get best_k:-87.0328952597083 best_b -42.67839843110237, and the loss is 612.1811311351622\n",
      "when time is : 650, get best_k:-87.0014720877718 best_b -42.67339843110221, and the loss is 611.9786479882495\n",
      "when time is : 700, get best_k:-86.9700489158353 best_b -42.66839843110204, and the loss is 611.7761648413372\n",
      "when time is : 750, get best_k:-86.93862574389881 best_b -42.663398431101875, and the loss is 611.5736816944252\n",
      "when time is : 800, get best_k:-86.90720257196232 best_b -42.65839843110171, and the loss is 611.3711985475137\n",
      "when time is : 850, get best_k:-86.87577940002582 best_b -42.65339843110154, and the loss is 611.1687154006019\n",
      "when time is : 900, get best_k:-86.84435622808932 best_b -42.64839843110138, and the loss is 610.9662322536901\n",
      "when time is : 950, get best_k:-86.81293305615283 best_b -42.64339843110121, and the loss is 610.7637491067778\n",
      "when time is : 1000, get best_k:-86.78150988421633 best_b -42.638398431101045, and the loss is 610.5612659598654\n",
      "when time is : 1050, get best_k:-86.75008671227984 best_b -42.63339843110088, and the loss is 610.3587828129539\n",
      "when time is : 1100, get best_k:-86.71866354034334 best_b -42.62839843110071, and the loss is 610.156299666042\n",
      "when time is : 1150, get best_k:-86.68724036840685 best_b -42.62339843110055, and the loss is 609.9538165191303\n",
      "when time is : 1200, get best_k:-86.65581719647035 best_b -42.61839843110038, and the loss is 609.7513333722192\n",
      "when time is : 1250, get best_k:-86.62439402453386 best_b -42.613398431100215, and the loss is 609.5488502253062\n",
      "when time is : 1300, get best_k:-86.59297085259736 best_b -42.60839843110005, and the loss is 609.3463670783941\n",
      "when time is : 1350, get best_k:-86.56154768066087 best_b -42.60339843109988, and the loss is 609.1438839314825\n",
      "when time is : 1400, get best_k:-86.53012450872437 best_b -42.59839843109972, and the loss is 608.9414007845709\n",
      "when time is : 1450, get best_k:-86.49870133678787 best_b -42.59339843109955, and the loss is 608.7389176376589\n",
      "when time is : 1500, get best_k:-86.46727816485138 best_b -42.588398431099385, and the loss is 608.5364344907475\n",
      "when time is : 1550, get best_k:-86.43585499291488 best_b -42.58339843109922, and the loss is 608.3339513438344\n",
      "when time is : 1600, get best_k:-86.40443182097839 best_b -42.57839843109905, and the loss is 608.1314681969226\n",
      "when time is : 1650, get best_k:-86.37300864904189 best_b -42.57339843109889, and the loss is 607.9289850500111\n",
      "when time is : 1700, get best_k:-86.3415854771054 best_b -42.56839843109872, and the loss is 607.7265019030988\n",
      "when time is : 1750, get best_k:-86.3101623051689 best_b -42.563398431098555, and the loss is 607.5240187561877\n",
      "when time is : 1800, get best_k:-86.2787391332324 best_b -42.55839843109839, and the loss is 607.3215356092745\n",
      "when time is : 1850, get best_k:-86.24731596129591 best_b -42.55339843109822, and the loss is 607.1190524623629\n",
      "when time is : 1900, get best_k:-86.21589278935942 best_b -42.54839843109806, and the loss is 606.916569315451\n",
      "when time is : 1950, get best_k:-86.18446961742292 best_b -42.54339843109789, and the loss is 606.7140861685396\n"
     ]
    }
   ],
   "source": [
    "trying_times = 2000\n",
    "X,y = data['data'], data['target']\n",
    "min_loss = float('inf')\n",
    "current_k = random.random()*200 - 100\n",
    "current_b = random.random()*200 - 100\n",
    "learning_rate = 1e-04\n",
    "X_rm = X[:,5]\n",
    "\n",
    "update_time = 0\n",
    "\n",
    "for i in range(trying_times):\n",
    "    price_by_k_and_b = [price(r,current_k, current_b) for r in X_rm]\n",
    "    current_loss = loss(y,price_by_k_and_b)\n",
    "    if current_loss < min_loss:\n",
    "        min_loss = current_loss\n",
    "        if i % 50 == 0:\n",
    "            print('when time is : {}, get best_k:{} best_b {}, and the loss is {}'.format(i, current_k, current_b, min_loss))\n",
    "    k_gradient = partial_k_2(X_rm,y,price_by_k_and_b)\n",
    "    b_gradient = partial_b_2(y,price_by_k_and_b)\n",
    "    current_k = current_k + (-1*k_gradient)*learning_rate\n",
    "    current_b = current_b + (-1*b_gradient)*learning_rate"
   ]
  },
  {
   "cell_type": "code",
   "execution_count": 188,
   "metadata": {},
   "outputs": [
    {
     "data": {
      "text/plain": [
       "<matplotlib.collections.PathCollection at 0x1b0167c5400>"
      ]
     },
     "execution_count": 188,
     "metadata": {},
     "output_type": "execute_result"
    },
    {
     "data": {
      "image/png": "[encoded data removed]",
      "text/plain": [
       "<Figure size 432x288 with 1 Axes>"
      ]
     },
     "metadata": {},
     "output_type": "display_data"
    }
   ],
   "source": [
    "k = -86.18446961742292\n",
    "b = -42.54339843109789\n",
    "price_by_best_k_annd_b = [price(r, k, b) for r in X_rm]\n",
    "draw_rm_and_price()\n",
    "plt.scatter(X_rm, price_by_best_k_annd_b)"
   ]
  },
  {
   "cell_type": "markdown",
   "metadata": {},
   "source": [
    "### Part 3: Finish the Solution Parse Part of Edit-Distance"
   ]
  },
  {
   "cell_type": "code",
   "execution_count": 191,
   "metadata": {},
   "outputs": [],
   "source": [
    "solution = {}"
   ]
  },
  {
   "cell_type": "code",
   "execution_count": 200,
   "metadata": {},
   "outputs": [],
   "source": [
    "def lru_cache(f,maxsize = 2**10):\n",
    "    cach = {}\n",
    "    @wraps(f)\n",
    "    def _wraps_inner(string1,string2):\n",
    "        if len(string1) > maxsize or len(string2) > maxsize:\n",
    "            return None\n",
    "        else:\n",
    "            if (string1,string2) in cach:\n",
    "                result = cach[(string1, string2)]\n",
    "            else:\n",
    "                result = f(string1,string2)\n",
    "            return result\n",
    "    return _wraps_inner"
   ]
  },
  {
   "cell_type": "code",
   "execution_count": 207,
   "metadata": {},
   "outputs": [],
   "source": [
    "@lru_cache\n",
    "def edit_distance(string1,string2):\n",
    "    if len(string1)== 0: return len(string2)\n",
    "    if len(string2)== 0: return len(string1)\n",
    "    tail_s1 = string1[-1]\n",
    "    tail_s2 = string2[-1]\n",
    "    \n",
    "    candidates = [\n",
    "        (edit_distance(string1[:-1],string2)+1, 'del {}'.format(tail_s1))\n",
    "        ,(edit_distance(string1, string2[:-1])+1, 'add {}'.format(tail_s2))\n",
    "    ]\n",
    "    \n",
    "    if tail_s1 == tail_s2:\n",
    "        both_forward = (edit_distance( string1[:-1],string2[:-1])+0, '')\n",
    "    else:\n",
    "        both_forward = (edit_distance( string1[:-1],string2[:-1])+1, 'sub {} => {}'.format(tail_s1,tail_s2))\n",
    "        \n",
    "    candidates.append(both_forward)\n",
    "    \n",
    "    min_distance, operation = min(candidates,key = lambda x:x[0])\n",
    "    solution[(string1,string2)] = (min_distance,operation)\n",
    "    return min_distance\n",
    "\n",
    "    "
   ]
  },
  {
   "cell_type": "code",
   "execution_count": 208,
   "metadata": {},
   "outputs": [
    {
     "data": {
      "text/plain": [
       "{('A', 'A'): (0, ''),\n",
       " ('A', 'AB'): (1, 'add B'),\n",
       " ('A', 'ABt'): (2, 'add t'),\n",
       " ('A', 'ABtr'): (3, 'add r'),\n",
       " ('AB', 'A'): (1, 'del B'),\n",
       " ('AB', 'AB'): (0, ''),\n",
       " ('AB', 'ABt'): (1, 'add t'),\n",
       " ('AB', 'ABtr'): (2, 'add r'),\n",
       " ('ABr', 'A'): (2, 'del r'),\n",
       " ('ABr', 'AB'): (1, 'del r'),\n",
       " ('ABr', 'ABt'): (1, 'sub r => t'),\n",
       " ('ABr', 'ABtr'): (1, ''),\n",
       " ('ABrE', 'A'): (3, 'del E'),\n",
       " ('ABrE', 'AB'): (2, 'del E'),\n",
       " ('ABrE', 'ABt'): (2, 'del E'),\n",
       " ('ABrE', 'ABtr'): (2, 'del E'),\n",
       " ('y', 'w'): 1,\n",
       " ('y', 'wa'): 2,\n",
       " ('y', 'wan'): 3,\n",
       " ('y', 'wang'): 4,\n",
       " ('y', 'wangy'): 4,\n",
       " ('y', 'wangyi'): 5,\n",
       " ('y', 'wangyin'): 6,\n",
       " ('y', 'wangyiny'): 7,\n",
       " ('y', 'wangyinyi'): 8,\n",
       " ('y', 'wangyinyin'): 9,\n",
       " ('yi', 'w'): 2,\n",
       " ('yi', 'wa'): 2,\n",
       " ('yi', 'wan'): 3,\n",
       " ('yi', 'wang'): 4,\n",
       " ('yi', 'wangy'): 5,\n",
       " ('yi', 'wangyi'): 4,\n",
       " ('yi', 'wangyin'): 5,\n",
       " ('yi', 'wangyiny'): 6,\n",
       " ('yi', 'wangyinyi'): 7,\n",
       " ('yi', 'wangyinyin'): 8,\n",
       " ('yin', 'w'): 3,\n",
       " ('yin', 'wa'): 3,\n",
       " ('yin', 'wan'): 2,\n",
       " ('yin', 'wang'): 3,\n",
       " ('yin', 'wangy'): 4,\n",
       " ('yin', 'wangyi'): 5,\n",
       " ('yin', 'wangyin'): 4,\n",
       " ('yin', 'wangyiny'): 5,\n",
       " ('yin', 'wangyinyi'): 6,\n",
       " ('yin', 'wangyinyin'): 7,\n",
       " ('yinw', 'w'): 3,\n",
       " ('yinw', 'wa'): 4,\n",
       " ('yinw', 'wan'): 3,\n",
       " ('yinw', 'wang'): 3,\n",
       " ('yinw', 'wangy'): 4,\n",
       " ('yinw', 'wangyi'): 5,\n",
       " ('yinw', 'wangyin'): 5,\n",
       " ('yinw', 'wangyiny'): 5,\n",
       " ('yinw', 'wangyinyi'): 6,\n",
       " ('yinw', 'wangyinyin'): 7,\n",
       " ('yinwa', 'w'): 4,\n",
       " ('yinwa', 'wa'): 3,\n",
       " ('yinwa', 'wan'): 4,\n",
       " ('yinwa', 'wang'): 4,\n",
       " ('yinwa', 'wangy'): 4,\n",
       " ('yinwa', 'wangyi'): 5,\n",
       " ('yinwa', 'wangyin'): 6,\n",
       " ('yinwa', 'wangyiny'): 6,\n",
       " ('yinwa', 'wangyinyi'): 6,\n",
       " ('yinwa', 'wangyinyin'): 7,\n",
       " ('yinwan', 'w'): 5,\n",
       " ('yinwan', 'wa'): 4,\n",
       " ('yinwan', 'wan'): 3,\n",
       " ('yinwan', 'wang'): 4,\n",
       " ('yinwan', 'wangy'): 5,\n",
       " ('yinwan', 'wangyi'): 5,\n",
       " ('yinwan', 'wangyin'): 5,\n",
       " ('yinwan', 'wangyiny'): 6,\n",
       " ('yinwan', 'wangyinyi'): 7,\n",
       " ('yinwan', 'wangyinyin'): 6,\n",
       " ('yinwang', 'w'): 6,\n",
       " ('yinwang', 'wa'): 5,\n",
       " ('yinwang', 'wan'): 4,\n",
       " ('yinwang', 'wang'): 3,\n",
       " ('yinwang', 'wangy'): 4,\n",
       " ('yinwang', 'wangyi'): 5,\n",
       " ('yinwang', 'wangyin'): 6,\n",
       " ('yinwang', 'wangyiny'): 6,\n",
       " ('yinwang', 'wangyinyi'): 7,\n",
       " ('yinwang', 'wangyinyin'): 7}"
      ]
     },
     "execution_count": 208,
     "metadata": {},
     "output_type": "execute_result"
    }
   ],
   "source": [
    "edit_distance('ABrE', 'ABtr')\n",
    "solution"
   ]
  },
  {
   "cell_type": "code",
   "execution_count": 209,
   "metadata": {},
   "outputs": [
    {
     "data": {
      "text/plain": [
       "{('A', 'A'): (0, ''),\n",
       " ('A', 'AB'): (1, 'add B'),\n",
       " ('A', 'ABt'): (2, 'add t'),\n",
       " ('A', 'ABtr'): (3, 'add r'),\n",
       " ('AB', 'A'): (1, 'del B'),\n",
       " ('AB', 'AB'): (0, ''),\n",
       " ('AB', 'ABt'): (1, 'add t'),\n",
       " ('AB', 'ABtr'): (2, 'add r'),\n",
       " ('ABr', 'A'): (2, 'del r'),\n",
       " ('ABr', 'AB'): (1, 'del r'),\n",
       " ('ABr', 'ABt'): (1, 'sub r => t'),\n",
       " ('ABr', 'ABtr'): (1, ''),\n",
       " ('ABrE', 'A'): (3, 'del E'),\n",
       " ('ABrE', 'AB'): (2, 'del E'),\n",
       " ('ABrE', 'ABt'): (2, 'del E'),\n",
       " ('ABrE', 'ABtr'): (2, 'del E'),\n",
       " ('y', 'w'): (1, 'sub y => w'),\n",
       " ('y', 'wa'): (2, 'add a'),\n",
       " ('y', 'wan'): (3, 'add n'),\n",
       " ('y', 'wang'): (4, 'add g'),\n",
       " ('y', 'wangy'): (4, ''),\n",
       " ('y', 'wangyi'): (5, 'add i'),\n",
       " ('y', 'wangyin'): (6, 'add n'),\n",
       " ('y', 'wangyiny'): (7, 'add y'),\n",
       " ('y', 'wangyinyi'): (8, 'add i'),\n",
       " ('y', 'wangyinyin'): (9, 'add n'),\n",
       " ('yi', 'w'): (2, 'del i'),\n",
       " ('yi', 'wa'): (2, 'sub i => a'),\n",
       " ('yi', 'wan'): (3, 'add n'),\n",
       " ('yi', 'wang'): (4, 'add g'),\n",
       " ('yi', 'wangy'): (5, 'del i'),\n",
       " ('yi', 'wangyi'): (4, ''),\n",
       " ('yi', 'wangyin'): (5, 'add n'),\n",
       " ('yi', 'wangyiny'): (6, 'add y'),\n",
       " ('yi', 'wangyinyi'): (7, 'add i'),\n",
       " ('yi', 'wangyinyin'): (8, 'add n'),\n",
       " ('yin', 'w'): (3, 'del n'),\n",
       " ('yin', 'wa'): (3, 'del n'),\n",
       " ('yin', 'wan'): (2, ''),\n",
       " ('yin', 'wang'): (3, 'add g'),\n",
       " ('yin', 'wangy'): (4, 'add y'),\n",
       " ('yin', 'wangyi'): (5, 'del n'),\n",
       " ('yin', 'wangyin'): (4, ''),\n",
       " ('yin', 'wangyiny'): (5, 'add y'),\n",
       " ('yin', 'wangyinyi'): (6, 'add i'),\n",
       " ('yin', 'wangyinyin'): (7, 'add n'),\n",
       " ('yinw', 'w'): (3, ''),\n",
       " ('yinw', 'wa'): (4, 'del w'),\n",
       " ('yinw', 'wan'): (3, 'del w'),\n",
       " ('yinw', 'wang'): (3, 'sub w => g'),\n",
       " ('yinw', 'wangy'): (4, 'add y'),\n",
       " ('yinw', 'wangyi'): (5, 'add i'),\n",
       " ('yinw', 'wangyin'): (5, 'del w'),\n",
       " ('yinw', 'wangyiny'): (5, 'sub w => y'),\n",
       " ('yinw', 'wangyinyi'): (6, 'add i'),\n",
       " ('yinw', 'wangyinyin'): (7, 'add n'),\n",
       " ('yinwa', 'w'): (4, 'del a'),\n",
       " ('yinwa', 'wa'): (3, ''),\n",
       " ('yinwa', 'wan'): (4, 'del a'),\n",
       " ('yinwa', 'wang'): (4, 'del a'),\n",
       " ('yinwa', 'wangy'): (4, 'sub a => y'),\n",
       " ('yinwa', 'wangyi'): (5, 'add i'),\n",
       " ('yinwa', 'wangyin'): (6, 'del a'),\n",
       " ('yinwa', 'wangyiny'): (6, 'del a'),\n",
       " ('yinwa', 'wangyinyi'): (6, 'sub a => i'),\n",
       " ('yinwa', 'wangyinyin'): (7, 'add n'),\n",
       " ('yinwan', 'w'): (5, 'del n'),\n",
       " ('yinwan', 'wa'): (4, 'del n'),\n",
       " ('yinwan', 'wan'): (3, ''),\n",
       " ('yinwan', 'wang'): (4, 'add g'),\n",
       " ('yinwan', 'wangy'): (5, 'del n'),\n",
       " ('yinwan', 'wangyi'): (5, 'sub n => i'),\n",
       " ('yinwan', 'wangyin'): (5, ''),\n",
       " ('yinwan', 'wangyiny'): (6, 'add y'),\n",
       " ('yinwan', 'wangyinyi'): (7, 'del n'),\n",
       " ('yinwan', 'wangyinyin'): (6, ''),\n",
       " ('yinwang', 'w'): (6, 'del g'),\n",
       " ('yinwang', 'wa'): (5, 'del g'),\n",
       " ('yinwang', 'wan'): (4, 'del g'),\n",
       " ('yinwang', 'wang'): (3, ''),\n",
       " ('yinwang', 'wangy'): (4, 'add y'),\n",
       " ('yinwang', 'wangyi'): (5, 'add i'),\n",
       " ('yinwang', 'wangyin'): (6, 'del g'),\n",
       " ('yinwang', 'wangyiny'): (6, 'sub g => y'),\n",
       " ('yinwang', 'wangyinyi'): (7, 'add i'),\n",
       " ('yinwang', 'wangyinyin'): (7, 'del g')}"
      ]
     },
     "execution_count": 209,
     "metadata": {},
     "output_type": "execute_result"
    }
   ],
   "source": [
    "edit_distance('yinwang', 'wangyinyin')\n",
    "solution"
   ]
  },
  {
   "cell_type": "code",
   "execution_count": null,
   "metadata": {},
   "outputs": [],
   "source": []
  },
  {
   "cell_type": "markdown",
   "metadata": {},
   "source": [
    "### Part 4 Choose 1 - 2 books to keep reading: \n",
    "\n",
    "+ SICP, Structure and Interpretation of Computer Programming. \n",
    "+ Introduction to Algorithms \n",
    "+ Artificial Intelligence A Modern Approach (3rd Edition) \n",
    "+ Code Complete 2 \n",
    "+ Programming Pearls \n",
    "+ Deep Learning\n",
    "+ 黑客与画家\n",
    "+ 数学之美\n",
    "+ Fluent Python\n",
    "+ Hands on Tensorflow\n",
    "+ Conference: NIPS_ ICML_ ICLR_ ACL_ AAAI\n",
    "\n",
    "> most books you may find in our github: https://github.com/Computing-Intelligence/References"
   ]
  },
  {
   "cell_type": "markdown",
   "metadata": {},
   "source": [
    "## Part 5-1: review machine learning"
   ]
  },
  {
   "cell_type": "markdown",
   "metadata": {},
   "source": [
    "1. Why do we use Derivative / Gredient to fit a target function?¶"
   ]
  },
  {
   "cell_type": "markdown",
   "metadata": {},
   "source": [
    "Ans: It can tell us the right direction of parameter change to supervise the model setting process."
   ]
  },
  {
   "cell_type": "markdown",
   "metadata": {},
   "source": [
    "2. In the words 'Gredient Descent', what's the Gredient and what's the Descent?¶"
   ]
  },
  {
   "cell_type": "markdown",
   "metadata": {},
   "source": [
    "Ans:Gredient is the how much we change every time. Descent means that we always choose the good direction that can make the loss become smaller. If loss increase, we went to same direction. Otherwise, we went to the other direction.¶"
   ]
  },
  {
   "cell_type": "markdown",
   "metadata": {},
   "source": [
    "\n",
    "3. What's the advantages of the 3rd gradient descent method compared to the previous methods?"
   ]
  },
  {
   "cell_type": "markdown",
   "metadata": {},
   "source": [
    " Ans: It can get the best one more quick as we can use patial to control the direction."
   ]
  },
  {
   "cell_type": "markdown",
   "metadata": {},
   "source": [
    "4. Using the simple words to describe: What's the machine leanring.¶"
   ]
  },
  {
   "cell_type": "markdown",
   "metadata": {},
   "source": [
    "Ans:building models from sample data in order to automate decision-making processes based on data inputs"
   ]
  },
  {
   "cell_type": "markdown",
   "metadata": {},
   "source": [
    "### Part 5: Answer following questions: "
   ]
  },
  {
   "cell_type": "markdown",
   "metadata": {},
   "source": [
    "1. Why do we need dynamic programming? What's the difference of dynamic programming and previous talked `search` problme? "
   ]
  },
  {
   "cell_type": "markdown",
   "metadata": {},
   "source": [
    "Ans: dynamic programming can avoid unnessary calculation. There is a cache which install the computed value. When faced with same calculation, we just need to use the result directly. This will save a lot of time.\n",
    "While for search, we need consider all the situations again without know whether it have existent or not. This search method will cost a lot of time."
   ]
  },
  {
   "cell_type": "markdown",
   "metadata": {},
   "source": [
    "2. Why do we still need dynamic programming? Why not we train a machine learning to fit a function which could get the `right` answer based on inputs?"
   ]
  },
  {
   "cell_type": "markdown",
   "metadata": {},
   "source": [
    "This method avoid large calculation and can give direction of function parameters change based one the trend of previous input data."
   ]
  },
  {
   "cell_type": "markdown",
   "metadata": {},
   "source": [
    "3. Can you catch up at least 3 problems which could solved by Dynamic Programming? "
   ]
  },
  {
   "cell_type": "markdown",
   "metadata": {},
   "source": [
    "google map, the houshold leaning robot, delivery route"
   ]
  },
  {
   "cell_type": "markdown",
   "metadata": {},
   "source": [
    "4. Can you catch up at least 3 problems wich could sloved by Edit Distance? "
   ]
  },
  {
   "cell_type": "markdown",
   "metadata": {},
   "source": [
    "4.1. the automatic spelling correction system of micor word system.\n",
    "4.2. find matches for short strings in many longer texts.\n",
    "4.3. get the most similar protein sequence."
   ]
  },
  {
   "cell_type": "markdown",
   "metadata": {},
   "source": [
    "5. Please summarize the three main features of Dynamic Programming, and make a concise explain for each feature. "
   ]
  },
  {
   "cell_type": "markdown",
   "metadata": {},
   "source": [
    "5.1 save cache, avoid repeat calculation\n",
    "5.2 Every subproblem you solve involves a decision\n",
    "5.3 we can know the whole decision process"
   ]
  },
  {
   "cell_type": "markdown",
   "metadata": {},
   "source": [
    "6. What's the disadvantages of Dynamic Programming? (You may need search by yourself in Internet)"
   ]
  },
  {
   "cell_type": "markdown",
   "metadata": {},
   "source": [
    "6.1 Dividing problem in sub problem and storing inter mediate results consumes memory.\n",
    "6.2 every problem has to be solving in its own way."
   ]
  },
  {
   "cell_type": "markdown",
   "metadata": {},
   "source": [
    "## Part 6 Preparation of Project-01"
   ]
  },
  {
   "cell_type": "markdown",
   "metadata": {},
   "source": [
    "1. Using python Flask or Bottle to finish your first simple web app:\n",
    "> https://bottlepy.org/\n",
    "\n",
    "2. Learn what's the SQL, and try some simple SQL operations:\n",
    "> https://www.w3schools.com/sql/sql_intro.asp\n",
    "\n",
    "3. Learn what's the HTML ( *ONLY* need to know the basic things)\n",
    "> https://getbootstrap.com/; https://www.w3schools.com/html/"
   ]
  },
  {
   "cell_type": "markdown",
   "metadata": {},
   "source": [
    "### (Optinal) Finish the k-person-salesman problem:"
   ]
  },
  {
   "cell_type": "code",
   "execution_count": 2,
   "metadata": {},
   "outputs": [],
   "source": [
    "import random\n",
    "import matplotlib.pylab as plt"
   ]
  },
  {
   "cell_type": "code",
   "execution_count": 3,
   "metadata": {},
   "outputs": [],
   "source": [
    "latitudes = [random.randint(-100, 100) for _ in range(15)]\n",
    "longitude = [random.randint(-100, 100) for _ in range(15)]"
   ]
  },
  {
   "cell_type": "code",
   "execution_count": 4,
   "metadata": {},
   "outputs": [
    {
     "data": {
      "text/plain": [
       "<matplotlib.collections.PathCollection at 0x1f9f519e940>"
      ]
     },
     "execution_count": 4,
     "metadata": {},
     "output_type": "execute_result"
    },
    {
     "data": {
      "image/png": "[encoded data removed]",
      "text/plain": [
       "<Figure size 432x288 with 1 Axes>"
      ]
     },
     "metadata": {},
     "output_type": "display_data"
    }
   ],
   "source": [
    "plt.scatter(latitudes, longitude)"
   ]
  },
  {
   "cell_type": "markdown",
   "metadata": {},
   "source": [
    "给定一个初始点 𝑃, 已经 𝑘个车辆，如何从该点出发，经这 k 个车辆经过所以的点全部一次，而且所走过的路程最短?\n",
    "\n",
    "例如："
   ]
  },
  {
   "cell_type": "code",
   "execution_count": 6,
   "metadata": {},
   "outputs": [],
   "source": [
    "import matplotlib.pyplot as plt"
   ]
  },
  {
   "cell_type": "code",
   "execution_count": 7,
   "metadata": {
    "scrolled": true
   },
   "outputs": [
    {
     "data": {
      "text/plain": [
       "<matplotlib.collections.PathCollection at 0x1f9f546b7b8>"
      ]
     },
     "execution_count": 7,
     "metadata": {},
     "output_type": "execute_result"
    },
    {
     "data": {
      "image/png": "[encoded data removed]",
      "text/plain": [
       "<Figure size 432x288 with 1 Axes>"
      ]
     },
     "metadata": {},
     "output_type": "display_data"
    }
   ],
   "source": [
    "plt.scatter(latitudes, longitude)\n",
    "plt.scatter([chosen_p[0]], [chosen_p[1]], color='r')\n",
    "plt.scatter([chosen_p2[0]], [chosen_p2[1]], color='r')\n",
    "plt.scatter([chosen_p3[0]], [chosen_p3[1]], color='r')"
   ]
  },
  {
   "cell_type": "markdown",
   "metadata": {},
   "source": [
    "shuro"
   ]
  },
  {
   "cell_type": "code",
   "execution_count": 8,
   "metadata": {},
   "outputs": [],
   "source": [
    "point_dict = {}\n",
    "for point_order, position in enumerate(zip(list(latitudes),list(longitude))):\n",
    "    point_dict[point_order] = position\n",
    "    "
   ]
  },
  {
   "cell_type": "code",
   "execution_count": 119,
   "metadata": {},
   "outputs": [
    {
     "data": {
      "text/plain": [
       "{0: (87, -68),\n",
       " 1: (29, 19),\n",
       " 10: (-88, -10),\n",
       " 11: (23, -85),\n",
       " 12: (-84, 74),\n",
       " 13: (-37, 81),\n",
       " 14: (77, 58),\n",
       " 2: (-81, 10),\n",
       " 3: (-87, -88),\n",
       " 4: (-83, -67),\n",
       " 5: (-44, 23),\n",
       " 6: (-4, 62),\n",
       " 7: (-70, -80),\n",
       " 8: (84, 18),\n",
       " 9: (98, -38),\n",
       " 'chosen_p': (-50, 10)}"
      ]
     },
     "execution_count": 119,
     "metadata": {},
     "output_type": "execute_result"
    }
   ],
   "source": [
    "point_dict"
   ]
  },
  {
   "cell_type": "code",
   "execution_count": 207,
   "metadata": {},
   "outputs": [],
   "source": [
    "# add name for figure point\n",
    "def draw_figure(point_dict):\n",
    "    fig, ax = plt.subplots()\n",
    "    #ax.scatter(latitudes, longitude )\n",
    "    for i,j in point_dict.items():\n",
    "        plt.scatter([j[0]], [j[1]],linewidths=4)\n",
    "        ax.annotate(i, (j[0]+5, j[1]+5))"
   ]
  },
  {
   "cell_type": "code",
   "execution_count": 208,
   "metadata": {
    "scrolled": true
   },
   "outputs": [
    {
     "data": {
      "image/png": "[encoded data removed]",
      "text/plain": [
       "<Figure size 432x288 with 1 Axes>"
      ]
     },
     "metadata": {},
     "output_type": "display_data"
    }
   ],
   "source": [
    "draw_figure(point_dict)"
   ]
  },
  {
   "cell_type": "code",
   "execution_count": 11,
   "metadata": {},
   "outputs": [],
   "source": [
    "from functools import wraps\n",
    "def momo_inner(func_two):\n",
    "    distance_two = {}\n",
    "    @wraps(func_two)\n",
    "    def _inner_wraps_two(place1, place2,point_dict):\n",
    "        if (place1, place2) in distance_two:\n",
    "            result = distance_two[(place1, place2)]\n",
    "        elif (place2, place1) in distance_two:\n",
    "            result = distance_two[(place2, place1)]  \n",
    "        else:\n",
    "            result = func_two(place1, place2,point_dict)\n",
    "            distance_two[(place1, place2)] = result\n",
    "        return result\n",
    "    return _inner_wraps_two"
   ]
  },
  {
   "cell_type": "code",
   "execution_count": 109,
   "metadata": {},
   "outputs": [],
   "source": [
    "#distance by geo\n",
    "import math\n",
    "@momo_inner\n",
    "def get_distance(place1, place2,point_dict):\n",
    "    lat1,lon1 = point_dict[place1]\n",
    "    lat2,lon2 = point_dict[place2]\n",
    "    radius = 6371\n",
    "    dlat = math.radians(lat2-lat1)\n",
    "    dlon = math.radians(lon2-lon1)\n",
    "    a = (math.sin(dlat / 2) * math.sin(dlat / 2) +\n",
    "         math.cos(math.radians(lat1)) * math.cos(math.radians(lat2)) *\n",
    "         math.sin(dlon / 2) * math.sin(dlon / 2))\n",
    "    c = 2 * math.atan2(math.sqrt(a), math.sqrt(1 - a))\n",
    "    d = radius * c\n",
    "    return d"
   ]
  },
  {
   "cell_type": "code",
   "execution_count": 30,
   "metadata": {},
   "outputs": [],
   "source": [
    "def memo_2(func):\n",
    "    distance = {}\n",
    "    @wraps(func)\n",
    "    def _inner_wraps_2(start,left_set):\n",
    "        if (start,tuple(left_set)) in distance:\n",
    "            result = distance[(start,tuple(left_set))]\n",
    "        else:\n",
    "            result = func(start,left_set)\n",
    "            distance[(start,tuple(left_set))] = result\n",
    "        return result\n",
    "    return _inner_wraps_2"
   ]
  },
  {
   "cell_type": "code",
   "execution_count": 60,
   "metadata": {},
   "outputs": [],
   "source": [
    "solutions = {}\n",
    "@memo_2\n",
    "def map_2(start,left_set):\n",
    "    if len(left_set) == 0:\n",
    "        return 0\n",
    "    else:\n",
    "        min_distance,min_routes = min([(get_distance(start, i,point_dict)+\n",
    "                                        map_2(i,left_set-{i}),(i,tuple(left_set-{i})))\n",
    "                                       for i in left_set],key = lambda x:x[0])\n",
    "    solutions[(start,tuple(left_set))] = min_routes\n",
    "    return min_distance"
   ]
  },
  {
   "cell_type": "code",
   "execution_count": 102,
   "metadata": {},
   "outputs": [],
   "source": [
    "def parse_solution(new_taget, solutions,start_route):\n",
    "    start_route += [new_taget[0]]\n",
    "    if new_taget not in list(solutions.keys()):\n",
    "        return start_route\n",
    "    else:\n",
    "        new_taget = solutions[new_taget]\n",
    "        return parse_solution(new_taget, solutions,start_route)"
   ]
  },
  {
   "cell_type": "code",
   "execution_count": 112,
   "metadata": {},
   "outputs": [],
   "source": [
    "def search_start(start,left_set,solutions):\n",
    "    start_route = []\n",
    "    for key_i,values_i in solutions.items():\n",
    "        if key_i[0]==start and left_set == set(key_i[1]):\n",
    "            start_route = []\n",
    "            routes_end= parse_solution(key_i, solutions,start_route)\n",
    "            return routes_end\n",
    "            "
   ]
  },
  {
   "cell_type": "code",
   "execution_count": 62,
   "metadata": {},
   "outputs": [
    {
     "data": {
      "text/plain": [
       "23369.637003867167"
      ]
     },
     "execution_count": 62,
     "metadata": {},
     "output_type": "execute_result"
    }
   ],
   "source": [
    "map_2(8,{1,2,5,7,9})"
   ]
  },
  {
   "cell_type": "code",
   "execution_count": 106,
   "metadata": {},
   "outputs": [
    {
     "name": "stdout",
     "output_type": "stream",
     "text": [
      "yes\n"
     ]
    },
    {
     "data": {
      "text/plain": [
       "[8, 9, 1, 5, 2, 7]"
      ]
     },
     "execution_count": 106,
     "metadata": {},
     "output_type": "execute_result"
    }
   ],
   "source": [
    "search_start(8,{1,2,5,7,9},solutions)"
   ]
  },
  {
   "cell_type": "code",
   "execution_count": 94,
   "metadata": {},
   "outputs": [],
   "source": [
    "point_dict['chosen_p']= (-50, 10)"
   ]
  },
  {
   "cell_type": "code",
   "execution_count": 97,
   "metadata": {},
   "outputs": [
    {
     "data": {
      "text/plain": [
       "42445.97281849627"
      ]
     },
     "execution_count": 97,
     "metadata": {},
     "output_type": "execute_result"
    }
   ],
   "source": [
    "map_2('chosen_p',set(range(0,15)))"
   ]
  },
  {
   "cell_type": "code",
   "execution_count": 126,
   "metadata": {},
   "outputs": [],
   "source": [
    "route_direction = search_start('chosen_p',set(range(0,15)),solutions)"
   ]
  },
  {
   "cell_type": "code",
   "execution_count": 127,
   "metadata": {
    "scrolled": true
   },
   "outputs": [
    {
     "data": {
      "image/png": "[encoded data removed]",
      "text/plain": [
       "<Figure size 432x288 with 1 Axes>"
      ]
     },
     "metadata": {},
     "output_type": "display_data"
    }
   ],
   "source": [
    "draw_figure(point_dict)"
   ]
  },
  {
   "cell_type": "code",
   "execution_count": 217,
   "metadata": {},
   "outputs": [],
   "source": [
    "import matplotlib.pyplot as plt\n",
    "def connect_route(point_dict,route_direction):\n",
    "    draw_figure(point_dict)\n",
    "    x = []\n",
    "    y = []\n",
    "    for i in list(range(0,len(route_direction))):\n",
    "        point_1 = point_dict[route_direction[i]]\n",
    "        x += [point_1[0]]\n",
    "        y += [point_1[1]]\n",
    "    x = np.array(x)\n",
    "    y = np.array(y)\n",
    "    plt.quiver(x[:-1], y[:-1], x[1:]-x[:-1], y[1:]-y[:-1], scale_units='xy', angles='xy', scale=1,color ='k')\n",
    "    #plt.plot(x,y)"
   ]
  },
  {
   "cell_type": "code",
   "execution_count": 218,
   "metadata": {},
   "outputs": [
    {
     "data": {
      "image/png": "[encoded data removed]",
      "text/plain": [
       "<Figure size 432x288 with 1 Axes>"
      ]
     },
     "metadata": {},
     "output_type": "display_data"
    }
   ],
   "source": [
    "connect_route(point_dict,route_direction)"
   ]
  },
  {
   "cell_type": "code",
   "execution_count": null,
   "metadata": {},
   "outputs": [],
   "source": []
  },
  {
   "cell_type": "code",
   "execution_count": null,
   "metadata": {},
   "outputs": [],
   "source": []
  },
  {
   "cell_type": "code",
   "execution_count": null,
   "metadata": {},
   "outputs": [],
   "source": []
  },
  {
   "cell_type": "markdown",
   "metadata": {},
   "source": [
    "# Other try , not used"
   ]
  },
  {
   "cell_type": "code",
   "execution_count": 251,
   "metadata": {},
   "outputs": [],
   "source": [
    "def parse_solution(target_set, solutions):\n",
    "    if len(target_set) in [0,1]:\n",
    "        return [target_set]\n",
    "    elif len(target_set) == 2:\n",
    "        return [target_set]\n",
    "    else:\n",
    "        set1,set2, connect = solutions[target_set][0][0],solutions[target_set][0][1],solutions[target_set][1]\n",
    "        return parse_solution(set1, solutions) + parse_solution(set2, solutions)+[connect]"
   ]
  },
  {
   "cell_type": "code",
   "execution_count": 237,
   "metadata": {},
   "outputs": [],
   "source": [
    "def get(parse_solution):\n",
    "    get_one = tuple(i for i in road_connection4 if len(i) ==1)\n",
    "    return get_one[0]"
   ]
  },
  {
   "cell_type": "code",
   "execution_count": 270,
   "metadata": {},
   "outputs": [],
   "source": [
    "solutions = {}\n",
    "visited_connect = set()\n",
    "@memo\n",
    "def map(palces_set):\n",
    "    global solutions,visited_connect\n",
    "    if len(palces_set) == 1: \n",
    "        min_distance = 0\n",
    "        solutions[palces_set] = 'this is end'\n",
    "    elif len(palces_set)==2:\n",
    "        min_distance = get_distance(palces_set[0], palces_set[1],point_dict)\n",
    "        solutions[palces_set] = 'this is only two places'\n",
    "    else:\n",
    "        candidates = cut_all_candidates(palces_set)\n",
    "        all_diatnace = []\n",
    "        for place_set_can in candidates:\n",
    "            if set(place_set_can[0]) <= visited_connect or place_set_can[1] <= visited_connect:\n",
    "                min_distance = 0\n",
    "            else:\n",
    "                min_connected_two = min_twopoint(place_set_can,point_dict,visited_connect)\n",
    "                sum_list = sum([map(place_set_can[0]),min_connected_two[0] ,map(place_set_can[1])])\n",
    "                infor_need = (sum_list,place_set_can,min_connected_two[1])\n",
    "                all_diatnace += [infor_need]\n",
    "            min_distance,min_routes,connects = min(all_diatnace,key = lambda x:x[0])\n",
    "            solutions[palces_set] = (min_routes,connects)\n",
    "        for i in connects:\n",
    "            visited_connect.add(i)\n",
    "        print('connects',connects)\n",
    "        print(visited_connect)\n",
    "    return min_distance"
   ]
  },
  {
   "cell_type": "code",
   "execution_count": 211,
   "metadata": {},
   "outputs": [],
   "source": [
    "start = get(road_connection4)\n",
    "visited_set = [start]\n",
    "def order_place(start,parse_solution):  \n",
    "    global visited_set\n",
    "    start_place = start[0]\n",
    "    for i in parse_solution:\n",
    "        if i in visited_set:\n",
    "            continue\n",
    "        else:\n",
    "            if start_place in i:\n",
    "                new_start = tuple(m for m in i if m not in start)\n",
    "                print(new_start)\n",
    "                visited_set += [i]\n",
    "                return order_place(new_start,parse_solution)\n",
    " "
   ]
  },
  {
   "cell_type": "code",
   "execution_count": 108,
   "metadata": {},
   "outputs": [],
   "source": [
    "def min_twopoint(place_set,point_dict,visited_connect):\n",
    "    dis_s = []\n",
    "    for place1 in place_set[0]:\n",
    "        for place2 in place_set[1]:\n",
    "            if place1 not in visited_connect and place2 not in visited_connect:\n",
    "                print('not in')\n",
    "                dis_s += [(map((place1,place2)),(place1,place2))]\n",
    "            else:\n",
    "                continue\n",
    "    return min(dis_s, key= lambda x:x[0])"
   ]
  },
  {
   "cell_type": "code",
   "execution_count": 10,
   "metadata": {},
   "outputs": [],
   "source": [
    "import itertools\n",
    "def left_part(single_set,place_set): return tuple(i for i in place_set if i not in single_set)\n",
    "def cut_all_candidates(place_set): \n",
    "    cans = list(itertools.combinations(list(place_set), 2))\n",
    "    cans_set = [(i,left_part(i,place_set)) for i in cans]\n",
    "    return cans_set"
   ]
  },
  {
   "cell_type": "code",
   "execution_count": 14,
   "metadata": {},
   "outputs": [],
   "source": [
    "def memo(func):\n",
    "    distance = {}\n",
    "    @wraps(func)\n",
    "    def _inner_wraps(start):\n",
    "        if tuple(start) in distance:\n",
    "            result = distance[tuple(start)]\n",
    "        else:\n",
    "            result = func(start)\n",
    "            distance[tuple(start)] = result\n",
    "        return result\n",
    "    return _inner_wraps"
   ]
  },
  {
   "cell_type": "code",
   "execution_count": null,
   "metadata": {},
   "outputs": [],
   "source": [
    "palces = set(list(point_dict.keys()))\n",
    "solutions = {}\n",
    "@memo\n",
    "def map(start):\n",
    "    global palces\n",
    "    start_last = start[-1]\n",
    "    place_left = palces-set(start)\n",
    "    if len(place_left)==0:\n",
    "        return 0\n",
    "    else:\n",
    "        min_distance,min_routes = min([(get_distance(start_last, i,point_dict)+\n",
    "                                        map(start+[i]),start+[i])\n",
    "                                       for i in  place_left],key = lambda x:x[0])\n",
    "    solutions[tuple(start)] = min_routes\n",
    "    return min_distance"
   ]
  },
  {
   "cell_type": "code",
   "execution_count": 41,
   "metadata": {},
   "outputs": [],
   "source": [
    "def parse_solution(target_start, solutions):\n",
    "    if tuple(target_start) not in list(solutions.keys()):\n",
    "        return target_start\n",
    "    else:\n",
    "        new_taget = solutions[tuple(target_start)]\n",
    "        print(new_taget)\n",
    "        return parse_solution(new_taget, solutions)"
   ]
  },
  {
   "cell_type": "code",
   "execution_count": null,
   "metadata": {},
   "outputs": [],
   "source": []
  },
  {
   "cell_type": "code",
   "execution_count": null,
   "metadata": {},
   "outputs": [],
   "source": []
  }
 ],
 "metadata": {
  "kernelspec": {
   "display_name": "Python 3",
   "language": "python",
   "name": "python3"
  },
  "language_info": {
   "codemirror_mode": {
    "name": "ipython",
    "version": 3
   },
   "file_extension": ".py",
   "mimetype": "text/x-python",
   "name": "python",
   "nbconvert_exporter": "python",
   "pygments_lexer": "ipython3",
   "version": "3.5.5"
  }
 },
 "nbformat": 4,
 "nbformat_minor": 2
}
